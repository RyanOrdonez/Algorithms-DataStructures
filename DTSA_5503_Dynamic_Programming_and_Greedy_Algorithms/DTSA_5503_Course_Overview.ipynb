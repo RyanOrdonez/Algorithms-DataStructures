{
 "cells": [
  {
   "cell_type": "markdown",
   "metadata": {},
   "source": [
    "# DTSA 5503: Dynamic Programming, Greedy Algorithms\n",
    "\n",
    "## Course Overview and Quick Reference Guide\n",
    "\n",
    "This notebook serves as a comprehensive overview and quick reference guide for the key concepts, techniques, and implementations covered in this course.\n",
    "\n",
    "### Course Objectives\n",
    "- Understanding dynamic programming principles\n",
    "- Implementing greedy algorithms\n",
    "- Analyzing optimization problems\n",
    "- Applying DP and greedy techniques to real problems"
   ]
  },
  {
   "cell_type": "code",
   "execution_count": null,
   "metadata": {},
   "source": [
    "# Import common libraries\n",
    "from typing import List, Dict, Optional\n",
    "import numpy as np\n",
    "import matplotlib.pyplot as plt\n",
    "from functools import lru_cache\n",
    "\n",
    "# For visualizing algorithms\n",
    "%matplotlib inline\n",
    "plt.style.use('seaborn')"
   ]
  },
  {
   "cell_type": "markdown",
   "metadata": {},
   "source": [
    "## Week 1: Introduction to Dynamic Programming\n",
    "\n",
    "### Key Concepts\n",
    "- \n",
    "\n",
    "### Important Terms\n",
    "- \n",
    "\n",
    "### Code Examples"
   ]
  },
  {
   "cell_type": "code",
   "execution_count": null,
   "metadata": {},
   "source": [
    "def fibonacci_dp(n: int) -> int:\n",
    "    \"\"\"Fibonacci using dynamic programming\"\"\"\n",
    "    if n <= 1:\n",
    "        return n\n",
    "    \n",
    "    dp = [0] * (n + 1)\n",
    "    dp[1] = 1\n",
    "    \n",
    "    for i in range(2, n + 1):\n",
    "        dp[i] = dp[i-1] + dp[i-2]\n",
    "    \n",
    "    return dp[n]"
   ]
  },
  {
   "cell_type": "markdown",
   "metadata": {},
   "source": [
    "## Week 2: Basic Dynamic Programming Problems\n",
    "\n",
    "### Key Concepts\n",
    "- \n",
    "\n",
    "### Important Problems\n",
    "- \n",
    "\n",
    "### Code Examples"
   ]
  },
  {
   "cell_type": "code",
   "execution_count": null,
   "metadata": {},
   "source": [
    "def longest_increasing_subsequence(nums: List[int]) -> int:\n",
    "    \"\"\"Find length of longest increasing subsequence\"\"\"\n",
    "    pass\n",
    "\n",
    "def knapsack(values: List[int], weights: List[int], capacity: int) -> int:\n",
    "    \"\"\"0/1 Knapsack problem\"\"\"\n",
    "    pass"
   ]
  },
  {
   "cell_type": "markdown",
   "metadata": {},
   "source": [
    "## Week 3: Introduction to Greedy Algorithms\n",
    "\n",
    "### Key Concepts\n",
    "- \n",
    "\n",
    "### Important Terms\n",
    "- \n",
    "\n",
    "### Code Examples"
   ]
  },
  {
   "cell_type": "code",
   "execution_count": null,
   "metadata": {},
   "source": [
    "def activity_selection(start: List[int], finish: List[int]) -> List[int]:\n",
    "    \"\"\"Activity selection problem using greedy approach\"\"\"\n",
    "    pass"
   ]
  },
  {
   "cell_type": "markdown",
   "metadata": {},
   "source": [
    "## Week 4: Advanced Dynamic Programming\n",
    "\n",
    "### Key Concepts\n",
    "- \n",
    "\n",
    "### Important Techniques\n",
    "- \n",
    "\n",
    "### Code Examples"
   ]
  },
  {
   "cell_type": "code",
   "execution_count": null,
   "metadata": {},
   "source": [
    "def matrix_chain_multiplication(dims: List[int]) -> int:\n",
    "    \"\"\"Matrix chain multiplication using DP\"\"\"\n",
    "    pass"
   ]
  },
  {
   "cell_type": "markdown",
   "metadata": {},
   "source": [
    "## Week 5: Advanced Greedy Algorithms\n",
    "\n",
    "### Key Concepts\n",
    "- \n",
    "\n",
    "### Important Algorithms\n",
    "- \n",
    "\n",
    "### Code Examples"
   ]
  },
  {
   "cell_type": "code",
   "execution_count": null,
   "metadata": {},
   "source": [
    "def huffman_coding(data: str) -> Dict[str, str]:\n",
    "    \"\"\"Huffman coding implementation\"\"\"\n",
    "    pass"
   ]
  },
  {
   "cell_type": "markdown",
   "metadata": {},
   "source": [
    "## Week 6: String Dynamic Programming\n",
    "\n",
    "### Key Concepts\n",
    "- \n",
    "\n",
    "### Important Problems\n",
    "- \n",
    "\n",
    "### Code Examples"
   ]
  },
  {
   "cell_type": "code",
   "execution_count": null,
   "metadata": {},
   "source": [
    "def edit_distance(word1: str, word2: str) -> int:\n",
    "    \"\"\"Edit distance using dynamic programming\"\"\"\n",
    "    pass"
   ]
  },
  {
   "cell_type": "markdown",
   "metadata": {},
   "source": [
    "## Week 7: Graph Dynamic Programming\n",
    "\n",
    "### Key Concepts\n",
    "- \n",
    "\n",
    "### Important Problems\n",
    "- \n",
    "\n",
    "### Code Examples"
   ]
  },
  {
   "cell_type": "code",
   "execution_count": null,
   "metadata": {},
   "source": [
    "def traveling_salesman(graph: List[List[int]]) -> int:\n",
    "    \"\"\"Traveling Salesman Problem using DP\"\"\"\n",
    "    pass"
   ]
  },
  {
   "cell_type": "markdown",
   "metadata": {},
   "source": [
    "## Week 8: Advanced Applications\n",
    "\n",
    "### Key Concepts\n",
    "- \n",
    "\n",
    "### Important Applications\n",
    "- \n",
    "\n",
    "### Code Examples"
   ]
  },
  {
   "cell_type": "code",
   "execution_count": null,
   "metadata": {},
   "source": [
    "# Week 8 Code Examples\n"
   ]
  },
  {
   "cell_type": "markdown",
   "metadata": {},
   "source": [
    "## Additional Resources and References\n",
    "\n",
    "### Problem-Solving Strategies\n",
    "- Identifying DP problems\n",
    "- Recognizing greedy opportunities\n",
    "- Optimization techniques\n",
    "\n",
    "### External Links\n",
    "- Course materials\n",
    "- Practice problems\n",
    "- Algorithm visualizations\n",
    "\n",
    "### Personal Notes\n",
    "- Key takeaways\n",
    "- Common patterns\n",
    "- Problem-solving approaches"
   ]
  }
 ],
 "metadata": {
  "kernelspec": {
   "display_name": "Python 3",
   "language": "python",
   "name": "python3"
  },
  "language_info": {
   "codemirror_mode": {
    "name": "ipython",
    "version": 3
   },
   "file_extension": ".py",
   "mimetype": "text/x-python",
   "name": "python",
   "nbconvert_exporter": "python",
   "pygments_lexer": "ipython3",
   "version": "3.8.0"
  }
 },
 "nbformat": 4,
 "nbformat_minor": 4
}
